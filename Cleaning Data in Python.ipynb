{
 "cells": [
  {
   "cell_type": "markdown",
   "id": "23bb88b2",
   "metadata": {},
   "source": [
    "# 1. Common data problems\n",
    "\n",
    "In this chapter, you'll learn how to overcome some of the most common dirty data problems. You'll convert data types, apply range constraints to remove future data points, and remove duplicated data points to avoid double-counting."
   ]
  },
  {
   "cell_type": "markdown",
   "id": "5afd8eaa",
   "metadata": {},
   "source": [
    "## 1.1 Data type constraints"
   ]
  },
  {
   "cell_type": "markdown",
   "id": "41a319e3",
   "metadata": {},
   "source": [
    "## 1.2 Common data types\n",
    "\n",
    "Manipulating and analyzing data with incorrect data types could lead to compromised analysis as you go along the data science workflow.\n",
    "\n",
    "When working with new data, you should always check the data types of your columns using the `.dtypes` attribute or the `.info()` method which you'll see in the next exercise. Often times, you'll run into columns that should be converted to different data types before starting any analysis.\n",
    "\n",
    "In this exercise, you'll first identify different types of data and correctly map them to their respective types."
   ]
  },
  {
   "cell_type": "markdown",
   "id": "e06c5597",
   "metadata": {},
   "source": [
    "### 1.2.1 Instructions\n",
    "\n",
    "- Assign each card to what type of data you think it is.\n",
    "  \n",
    "  | Numeric data types                        | Text                           | Dates                   |\n",
    "  |:-----------------------------------------:|:------------------------------:|:-----------------------:|\n",
    "  | Number of items bought in a basket        | City of residence              | Order date of a product |\n",
    "  | Number of points on customer loyalty card | First name                     | Birthdates of clients   |\n",
    "  | Salary earned monthly                     | Shipping address of a customer |                         |"
   ]
  },
  {
   "cell_type": "markdown",
   "id": "5082b840",
   "metadata": {},
   "source": [
    "## 1.3 Numeric data or ... ?\n",
    "\n",
    "In this exercise, and throughout this chapter, you'll be working with bicycle ride sharing data in San Francisco called `ride_sharing`. It contains information on the start and end stations, the trip duration, and some user information for a bike sharing service.\n",
    "\n",
    "The `user_type` column contains information on whether a user is taking a free ride and takes on the following values:\n",
    "\n",
    "- `1` for free riders.\n",
    "- `2` for pay per ride.\n",
    "- `3` for monthly subscribers.\n",
    "\n",
    "In this instance, you will print the information of `ride_sharing` using `.info()` and see a firsthand example of how an incorrect data type can flaw your analysis of the dataset. The `pandas` package is imported as `pd`."
   ]
  },
  {
   "cell_type": "markdown",
   "id": "ecfe1ced",
   "metadata": {},
   "source": [
    "### 1.3.1 Instructions 1/3\n",
    "\n",
    "- Print the information of `ride_sharing`.\n",
    "- Use `.describe()` to print the summary statistics of the `user_type` column from `ride_sharing`."
   ]
  },
  {
   "cell_type": "markdown",
   "id": "6bb832db",
   "metadata": {},
   "source": [
    "```python\n",
    "# Print the information of ride_sharing\n",
    "print(ride_sharing.info())\n",
    "\n",
    "# Print summary statistics of user_type column\n",
    "print(ride_sharing['user_type'].describe())\n",
    "```"
   ]
  },
  {
   "cell_type": "markdown",
   "id": "c84b00f0",
   "metadata": {},
   "source": [
    "```\n",
    "<class 'pandas.core.frame.DataFrame'>\n",
    "Int64Index: 25760 entries, 0 to 25759\n",
    "Data columns (total 9 columns):\n",
    " #   Column           Non-Null Count  Dtype \n",
    "---  ------           --------------  ----- \n",
    " 0   duration         25760 non-null  object\n",
    " 1   station_A_id     25760 non-null  int64 \n",
    " 2   station_A_name   25760 non-null  object\n",
    " 3   station_B_id     25760 non-null  int64 \n",
    " 4   station_B_name   25760 non-null  object\n",
    " 5   bike_id          25760 non-null  int64 \n",
    " 6   user_type        25760 non-null  int64 \n",
    " 7   user_birth_year  25760 non-null  int64 \n",
    " 8   user_gender      25760 non-null  object\n",
    "dtypes: int64(5), object(4)\n",
    "memory usage: 2.0+ MB\n",
    "None\n",
    "count    25760.000\n",
    "mean         2.008\n",
    "std          0.705\n",
    "min          1.000\n",
    "25%          2.000\n",
    "50%          2.000\n",
    "75%          3.000\n",
    "max          3.000\n",
    "Name: user_type, dtype: float64\n",
    "```"
   ]
  },
  {
   "cell_type": "markdown",
   "id": "fe064eeb",
   "metadata": {},
   "source": [
    "### 1.3.2 Instructions 2/3\n",
    "\n",
    "### Question\n",
    "\n",
    "By looking at the summary statistics - they don't really seem to offer much description on how users are distributed along their purchase type, why do you think that is?\n",
    "\n",
    "### Possible answers\n",
    "\n",
    "- [ ] The `user_type` column is not of the correct type, it should be converted to `str`.\n",
    "\n",
    "- [ ] The `user_type` column has an infinity set of possible values, it should be converted to `category`.\n",
    "\n",
    "- [x] The `user_type` column has an finite set of possible values that represent groupings of data, it sholud be converted to `category`"
   ]
  },
  {
   "cell_type": "markdown",
   "id": "5a65faf8",
   "metadata": {},
   "source": [
    "### 1.3.3 Instructions 3/3\n",
    "\n",
    "- Convert `user_type` into categorical by assigning it the `'category'` data type and store it in the `user_type_cat` column.\n",
    "- Make sure you converted `user_type_cat` correctly by using an `assert` statement."
   ]
  },
  {
   "cell_type": "markdown",
   "id": "166b4bc6",
   "metadata": {},
   "source": [
    "```python\n",
    "# Print the information of ride_sharing\n",
    "print(ride_sharing.info())\n",
    "\n",
    "# Print summary statistics of user_type column\n",
    "print(ride_sharing['user_type'].describe())\n",
    "\n",
    "# Convert user_type from integer to category\n",
    "ride_sharing['user_type_cat'] = ride_sharing['user_type'].astype('category')\n",
    "\n",
    "# Write an assert statement confirming the change\n",
    "assert ride_sharing['user_type_cat'].dtype == 'category'\n",
    "\n",
    "# Print new summary statistics \n",
    "print(ride_sharing['user_type_cat'].describe())\n",
    "```"
   ]
  },
  {
   "cell_type": "markdown",
   "id": "424fd309",
   "metadata": {},
   "source": [
    "```\n",
    "<class 'pandas.core.frame.DataFrame'>\n",
    "Int64Index: 25760 entries, 0 to 25759\n",
    "Data columns (total 9 columns):\n",
    " #   Column           Non-Null Count  Dtype \n",
    "---  ------           --------------  ----- \n",
    " 0   duration         25760 non-null  object\n",
    " 1   station_A_id     25760 non-null  int64 \n",
    " 2   station_A_name   25760 non-null  object\n",
    " 3   station_B_id     25760 non-null  int64 \n",
    " 4   station_B_name   25760 non-null  object\n",
    " 5   bike_id          25760 non-null  int64 \n",
    " 6   user_type        25760 non-null  int64 \n",
    " 7   user_birth_year  25760 non-null  int64 \n",
    " 8   user_gender      25760 non-null  object\n",
    "dtypes: int64(5), object(4)\n",
    "memory usage: 2.0+ MB\n",
    "None\n",
    "count    25760.000\n",
    "mean         2.008\n",
    "std          0.705\n",
    "min          1.000\n",
    "25%          2.000\n",
    "50%          2.000\n",
    "75%          3.000\n",
    "max          3.000\n",
    "Name: user_type, dtype: float64\n",
    "count     25760\n",
    "unique        3\n",
    "top           2\n",
    "freq      12972\n",
    "Name: user_type_cat, dtype: int64\n",
    "```"
   ]
  },
  {
   "cell_type": "markdown",
   "id": "e4c38196",
   "metadata": {},
   "source": [
    "## 1.4 Summing strings and concatenating numbers\n",
    "\n",
    "In the previous exercise, you were able to identify that `category` is the correct data type for `user_type` and convert it in order to extract relevant statistical summaries that shed light on the distribution of `user_type`.\n",
    "\n",
    "Another common data type problem is importing what should be numerical values as strings, as mathematical operations such as summing and multiplication lead to string concatenation, not numerical outputs.\n",
    "\n",
    "In this exercise, you'll be converting the string column `duration` to the type `int`. Before that however, you will need to make sure to strip `\"minutes\"` from the column in order to make sure `pandas` reads it as numerical. The `pandas` package has been imported as `pd`."
   ]
  },
  {
   "cell_type": "markdown",
   "id": "b541a887",
   "metadata": {},
   "source": [
    "### 1.4.1 Instructions\n",
    "\n",
    "- Use the `.strip()` method to strip `duration` of `\"minutes\"` and store it in the `duration_trim` column.\n",
    "- Convert `duration_trim` to `int` and store it in the `duration_time` column.\n",
    "- Write an `assert` statement that checks if `duration_time`'s **d**ata **type** is now an `int`.\n",
    "- Print the average ride duration."
   ]
  },
  {
   "cell_type": "markdown",
   "id": "0ca76d04",
   "metadata": {},
   "source": [
    "```python\n",
    "# Strip duration of minutes\n",
    "ride_sharing['duration_trim'] = ride_sharing['duration'].str.strip('minutes')\n",
    "\n",
    "# Convert duration to integer\n",
    "ride_sharing['duration_time'] = ride_sharing['duration_trim'].astype('int')\n",
    "\n",
    "# Write an assert statement making sure of conversion\n",
    "assert ride_sharing['duration_time'].dtype == 'int'\n",
    "\n",
    "# Print formed columns and calculate average ride duration \n",
    "print(ride_sharing[['duration','duration_trim','duration_time']])\n",
    "print(ride_sharing['duration_time'].mean())\n",
    "```"
   ]
  },
  {
   "cell_type": "markdown",
   "id": "00a29a1d",
   "metadata": {},
   "source": [
    "```\n",
    "         duration duration_trim  duration_time\n",
    "0      12 minutes           12              12\n",
    "1      24 minutes           24              24\n",
    "2       8 minutes            8               8\n",
    "3       4 minutes            4               4\n",
    "4      11 minutes           11              11\n",
    "...           ...           ...            ...\n",
    "25755  11 minutes           11              11\n",
    "25756  10 minutes           10              10\n",
    "25757  14 minutes           14              14\n",
    "25758  14 minutes           14              14\n",
    "25759  29 minutes           29              29\n",
    "\n",
    "[25760 rows x 3 columns]\n",
    "11.389052795031056\n",
    "```"
   ]
  },
  {
   "cell_type": "markdown",
   "id": "203236e5",
   "metadata": {},
   "source": [
    "## 1.5 Data range constraints"
   ]
  },
  {
   "cell_type": "markdown",
   "id": "6f48d138",
   "metadata": {},
   "source": [
    "## 1.6 Tire size constraints\n",
    "\n",
    "In this lesson, you're going to build on top of the work you've been doing with the `ride_sharing` DataFrame. You'll be working with the `tire_sizes` column which contains data on each bike's tire size.\n",
    "\n",
    "Bicycle tire sizes could be either 26″, 27″ or 29″ and are here correctly stored as a categorical value. In an effort to cut maintenance costs, the ride sharing provider decided to set the maximum tire size to be 27″.\n",
    "\n",
    "In this exercise, you will make sure the `tire_sizes` column has the correct range by first converting it to an integer, then setting and testing the new upper limit of 27″ for tire sizes."
   ]
  },
  {
   "cell_type": "markdown",
   "id": "2a4c39ff",
   "metadata": {},
   "source": [
    "### 1.6.1 Instructions\n",
    "\n",
    "- Convert the `tire_sizes` column from `category` to `'int'`.\n",
    "- Use `.loc[]` to set all values of `tire_sizes` above 27 to 27.\n",
    "- Reconvert back `tire_sizes` to `'category'` from `int`.\n",
    "- Print the description of the `tire_sizes`."
   ]
  },
  {
   "cell_type": "markdown",
   "id": "c3597a64",
   "metadata": {},
   "source": [
    "```python\n",
    "# Convert tire_sizes to integer\n",
    "ride_sharing['tire_sizes'] = ride_sharing['tire_sizes'].astype('int')\n",
    "\n",
    "# Set all values above 27 to 27\n",
    "ride_sharing.loc[ride_sharing['tire_sizes'] > 27, 'tire_sizes'] = 27\n",
    "\n",
    "# Reconvert tire_sizes back to categorical\n",
    "ride_sharing['tire_sizes'] = ride_sharing['tire_sizes'].astype('category')\n",
    "\n",
    "# Print tire size description\n",
    "print(ride_sharing['tire_sizes'].describe())\n",
    "```"
   ]
  },
  {
   "cell_type": "markdown",
   "id": "216c124d",
   "metadata": {},
   "source": [
    "```\n",
    "count     25760\n",
    "unique        2\n",
    "top          27\n",
    "freq      13274\n",
    "Name: tire_sizes, dtype: int64\n",
    "```"
   ]
  },
  {
   "cell_type": "markdown",
   "id": "533c7efe",
   "metadata": {},
   "source": [
    "## 1.7 Back to the future\n",
    "\n",
    "A new update to the data pipeline feeding into the `ride_sharing` DataFrame has been updated to register each ride's date. This information is stored in the `ride_date` column of the type `object`, which represents strings in `pandas`.\n",
    "\n",
    "A bug was discovered which was relaying rides taken today as taken next year. To fix this, you will find all instances of the `ride_date` column that occur anytime in the future, and set the maximum possible value of this column to today's date. Before doing so, you would need to convert `ride_date` to a `datetime` object.\n",
    "\n",
    "The `datetime` package has been imported as `dt`, alongside all the packages you've been using till now."
   ]
  },
  {
   "cell_type": "markdown",
   "id": "f051d60f",
   "metadata": {},
   "source": [
    "### 1.7.1 Instructions\n",
    "\n",
    "- Convert `ride_date` to a `datetime` object using `to_datetime()`, then convert the `datetime` object into a `date` and store it in `ride_dt` column.\n",
    "- Create the variable `today`, which stores today's date by using the `dt.date.today()` function.\n",
    "- For all instances of `ride_dt` in the future, set them to today's date.\n",
    "- Print the maximum date in the `ride_dt` column."
   ]
  },
  {
   "cell_type": "markdown",
   "id": "418b1db5",
   "metadata": {},
   "source": [
    "```python\n",
    "# Convert ride_date to date\n",
    "ride_sharing['ride_dt'] = pd.to_datetime(ride_sharing['ride_date']).dt.date\n",
    "\n",
    "# Save today's date\n",
    "today = dt.date.today()\n",
    "\n",
    "# Set all in the future to today's date\n",
    "ride_sharing.loc[ride_sharing['ride_dt'] > today, 'ride_dt'] = today\n",
    "\n",
    "# Print maximum of ride_dt column\n",
    "print(ride_sharing['ride_dt'].max())\n",
    "```"
   ]
  },
  {
   "cell_type": "markdown",
   "id": "7a30923e",
   "metadata": {},
   "source": [
    "```\n",
    "2023-05-31\n",
    "```"
   ]
  },
  {
   "cell_type": "markdown",
   "id": "5be1e54f",
   "metadata": {},
   "source": [
    "## 1.8 Uniqueness constraints"
   ]
  },
  {
   "cell_type": "markdown",
   "id": "5244fea1",
   "metadata": {},
   "source": [
    "## 1.9 How big is your subset?\n",
    "\n",
    "You have the following `loans` DataFrame which contains loan and credit score data for consumers, and some metadata such as their first and last names. You want to find both complete and incomplete duplicates using `.duplicated().`\n",
    "\n",
    "| first_name | last_name   | credit_score | has_loan |\n",
    "| ---------- | ----------- | ------------ | -------- |\n",
    "| Justin     | Saddlemeyer | 600          | 1        |\n",
    "| Hadrien    | Lacroix     | 450          | 0        |\n",
    "\n",
    "Choose the **correct** usage of `.duplicated()` below:"
   ]
  },
  {
   "cell_type": "markdown",
   "id": "9380ef30",
   "metadata": {},
   "source": [
    "### 1.9.1 Answer the question\n",
    "\n",
    "### Possible Answers\n",
    "\n",
    "- [ ] `loans.duplicated()`  \n",
    "    Because the default method returns both complete and incomplete duplicates.\n",
    "\n",
    "- [ ] `loans.duplicated(subset = 'first_name')`  \n",
    "    Because constraining the duplicate rows to the first name lets me find incomplete duplicates as well.\n",
    "\n",
    "- [x] `loans.duplicated(subset = ['first_name', 'last_name'], keep = False)`  \n",
    "    Because subsetting on consumer metadata and not discarding any duplicate returns all duplicated rows.\n",
    "\n",
    "- [ ] `loans.duplicated(subset = ['first_name', 'last_name'], keep = 'first')`  Because this drops all duplicates."
   ]
  },
  {
   "cell_type": "markdown",
   "id": "0c6f227d",
   "metadata": {},
   "source": [
    "## 1.10 Finding duplicates\n",
    "\n",
    "A new update to the data pipeline feeding into `ride_sharing` has added the `ride_id` column, which represents a unique identifier for each ride.\n",
    "\n",
    "The update however coincided with radically shorter average ride duration times and irregular user birth dates set in the future. Most importantly, the number of rides taken has increased by 20% overnight, leading you to think there might be both complete and incomplete duplicates in the `ride_sharing` DataFrame.\n",
    "\n",
    "In this exercise, you will confirm this suspicion by finding those duplicates. A sample of `ride_sharing` is in your environment, as well as all the packages you've been working with thus far."
   ]
  },
  {
   "cell_type": "markdown",
   "id": "64677965",
   "metadata": {},
   "source": [
    "### 1.10.1 Instructions\n",
    "\n",
    "- Find duplicated rows of `ride_id` in the `ride_sharing` DataFrame while setting `keep` to `False`.\n",
    "- Subset `ride_sharing` on `duplicates` and sort by `ride_id` and assign the results to `duplicated_rides`.\n",
    "- Print the `ride_id`, `duration` and `user_birth_year` columns of `duplicated_rides` in that order."
   ]
  },
  {
   "cell_type": "markdown",
   "id": "124c8c0b",
   "metadata": {},
   "source": [
    "```python\n",
    "# Find duplicates\n",
    "duplicates = ride_sharing.duplicated(subset = 'ride_id', keep = False)\n",
    "\n",
    "# Sort your duplicated rides\n",
    "duplicated_rides = ride_sharing[duplicates].sort_values('ride_id')\n",
    "\n",
    "# Print relevant columns of duplicated_rides\n",
    "print(duplicated_rides[['ride_id','duration','user_birth_year']])\n",
    "```"
   ]
  },
  {
   "cell_type": "markdown",
   "id": "1d052a2e",
   "metadata": {},
   "source": [
    "```\n",
    "    ride_id  duration  user_birth_year\n",
    "22       33        10             1979\n",
    "39       33         2             1979\n",
    "53       55         9             1985\n",
    "65       55         9             1985\n",
    "74       71        11             1997\n",
    "75       71        11             1997\n",
    "76       89         9             1986\n",
    "77       89         9             2060\n",
    "```"
   ]
  },
  {
   "cell_type": "markdown",
   "id": "f5c6291f",
   "metadata": {},
   "source": [
    "## 1.11 Treating duplicates\n",
    "\n",
    "In the last exercise, you were able to verify that the new update feeding into `ride_sharing` contains a bug generating both complete and incomplete duplicated rows for some values of the `ride_id` column, with occasional discrepant values for the `user_birth_year` and `duration` columns.\n",
    "\n",
    "In this exercise, you will be treating those duplicated rows by first dropping complete duplicates, and then merging the incomplete duplicate rows into one while keeping the average `duration`, and the minimum `user_birth_year` for each set of incomplete duplicate rows."
   ]
  },
  {
   "cell_type": "markdown",
   "id": "0da2c434",
   "metadata": {},
   "source": [
    "### 1.11.1 Instructions\n",
    "\n",
    "- Drop complete duplicates in `ride_sharing` and store the results in `ride_dup`.\n",
    "- Create the `statistics` dictionary which holds **min**imum aggregation for `user_birth_year` and **mean** aggregation for `duration`.\n",
    "- Drop incomplete duplicates by grouping by `ride_id` and applying the aggregation in `statistics`.\n",
    "- Find duplicates again and run the `assert` statement to verify de-duplication."
   ]
  },
  {
   "cell_type": "markdown",
   "id": "7cc68105",
   "metadata": {},
   "source": [
    "```python\n",
    "# Drop complete duplicates from ride_sharing\n",
    "ride_dup = ride_sharing.drop_duplicates()\n",
    "\n",
    "# Create statistics dictionary for aggregation function\n",
    "statistics = {'user_birth_year': 'min', 'duration': 'mean'}\n",
    "\n",
    "# Group by ride_id and compute new statistics\n",
    "ride_unique = ride_dup.groupby('ride_id').agg(statistics).reset_index()\n",
    "\n",
    "# Find duplicated values again\n",
    "duplicates = ride_unique.duplicated(subset = 'ride_id', keep = False)\n",
    "duplicated_rides = ride_unique[duplicates == True]\n",
    "\n",
    "# Assert duplicates are processed\n",
    "assert duplicated_rides.shape[0] == 0\n",
    "```"
   ]
  },
  {
   "cell_type": "markdown",
   "id": "f881750b",
   "metadata": {},
   "source": [
    "# 2. Text and categorical data problems\n",
    "\n",
    "Categorical and text data can often be some of the messiest parts of a dataset due to their unstructured nature. In this chapter, you’ll learn how to fix whitespace and capitalization inconsistencies in category labels, collapse multiple categories into one, and reformat strings for consistency."
   ]
  },
  {
   "cell_type": "markdown",
   "id": "92038476",
   "metadata": {},
   "source": [
    "## 2.1 Membership constraints"
   ]
  },
  {
   "cell_type": "markdown",
   "id": "b4ce7431",
   "metadata": {},
   "source": [
    "## 2.2 Members only\n",
    "\n",
    "Throughout the course so far, you've been exposed to some common problems that you may encounter with your data, from data type constraints, data range constrains, uniqueness constraints, and now membership constraints for categorical values.\n",
    "\n",
    "In this exercise, you will map hypothetical problems to their respective categories."
   ]
  },
  {
   "cell_type": "markdown",
   "id": "1c5a99f9",
   "metadata": {},
   "source": [
    "### 2.2.1 Instructions\n",
    "\n",
    "- Map the data problem observed with the correct type of data problem.\n",
    "\n",
    "| Membership Constraint                                | Other Constraint                                    |\n",
    "|:----------------------------------------------------:|:---------------------------------------------------:|\n",
    "| A `GPA` column containing a `Z-` grade.              | A `birthdate` column with the values in the future. |\n",
    "| A `month` column with the value `14`.                | An `age` column with values above 130.              |\n",
    "| A `has_loan` column with the value `12`.             | A `revenue` column represented as a string.         |\n",
    "| A `day_of_week` column with the value `Suntermonday` |                                                     |"
   ]
  },
  {
   "cell_type": "markdown",
   "id": "f3cf668f",
   "metadata": {},
   "source": [
    "## 2.3 Finding consistency\n",
    "\n",
    "In this exercise and throughout this chapter, you'll be working with the `airlines` DataFrame which contains survey responses on the San Francisco Airport from airline customers.\n",
    "\n",
    "The DataFrame contains flight metadata such as the airline, the destination, waiting times as well as answers to key questions regarding cleanliness, safety, and satisfaction. Another DataFrame named `categories` was created, containing all correct possible values for the survey columns.\n",
    "\n",
    "In this exercise, you will use both of these DataFrames to find survey answers with inconsistent values, and drop them, effectively performing an outer and inner join on both these DataFrames as seen in the video exercise. The `pandas` package has been imported as `pd`, and the `airlines` and `categories` DataFrames are in your environment."
   ]
  },
  {
   "cell_type": "markdown",
   "id": "cd3450fa",
   "metadata": {},
   "source": [
    "### 2.3.1 Instructions 1/4\n",
    "\n",
    "- Print the `categories` DataFrame and take a close look at all possible correct categories of the survey columns.\n",
    "- Print the unique values of the survey columns in `airlines` using the `.unique()` method."
   ]
  },
  {
   "cell_type": "markdown",
   "id": "867f3310",
   "metadata": {},
   "source": [
    "```python\n",
    "# Print categories DataFrame\n",
    "print(categories)\n",
    "\n",
    "# Print unique values of survey columns in airlines\n",
    "print('Cleanliness: ', airlines['cleanliness'].unique(), \"\\n\")\n",
    "print('Safety: ', airlines['safety'].unique(), \"\\n\")\n",
    "print('Satisfaction: ', airlines['satisfaction'].unique(), \"\\n\")\n",
    "```"
   ]
  },
  {
   "cell_type": "markdown",
   "id": "4dd9e8d0",
   "metadata": {},
   "source": [
    "```\n",
    "      cleanliness           safety          satisfaction\n",
    "0           Clean          Neutral        Very satisfied\n",
    "1         Average        Very safe               Neutral\n",
    "2  Somewhat clean    Somewhat safe    Somewhat satisfied\n",
    "3  Somewhat dirty      Very unsafe  Somewhat unsatisfied\n",
    "4           Dirty  Somewhat unsafe      Very unsatisfied\n",
    "Cleanliness:  ['Clean', 'Average', 'Unacceptable', 'Somewhat clean', 'Somewhat dirty', 'Dirty']\n",
    "Categories (6, object): ['Average', 'Clean', 'Dirty', 'Somewhat clean', 'Somewhat dirty', 'Unacceptable'] \n",
    "\n",
    "Safety:  ['Neutral', 'Very safe', 'Somewhat safe', 'Very unsafe', 'Somewhat unsafe']\n",
    "Categories (5, object): ['Neutral', 'Somewhat safe', 'Somewhat unsafe', 'Very safe', 'Very unsafe'] \n",
    "\n",
    "Satisfaction:  ['Very satisfied', 'Neutral', 'Somewhat satisfied', 'Somewhat unsatisfied', 'Very unsatisfied']\n",
    "Categories (5, object): ['Neutral', 'Somewhat satisfied', 'Somewhat unsatisfied', 'Very satisfied', 'Very unsatisfied'] \n",
    "```"
   ]
  },
  {
   "cell_type": "markdown",
   "id": "d4d0384e",
   "metadata": {},
   "source": [
    "### 2.3.2 Instructions 2/4\n",
    "\n",
    "### Question\n",
    "\n",
    "Take a look at the output. Out of the `cleanliness`, `safety` and `satisfaction` columns, which one has an inconsistent category and what is it?\n",
    "\n",
    "### Possible answers\n",
    "\n",
    "- [x] `cleanliness` because it has an `Unacceptable` category.\n",
    "\n",
    "- [ ] `cleanliness` because it has an `Terribly Dirty` category.\n",
    "\n",
    "- [ ] `satisfaction` because it has an `Very satisfied` category.\n",
    "\n",
    "- [ ] `safety` because it has a `Neutral` category."
   ]
  },
  {
   "cell_type": "markdown",
   "id": "620ccc2a",
   "metadata": {},
   "source": [
    "### 2.3.3 Instructions 3/4\n",
    "\n",
    "- Create a set out of the `cleanliness` column in `airlines` using `set()` and find the inconsistent category by finding the **difference** in the `cleanliness` column of `categories`.\n",
    "- Find rows of `airlines` with a `cleanliness` value not in `categories` and print the output."
   ]
  },
  {
   "cell_type": "markdown",
   "id": "64ff488c",
   "metadata": {},
   "source": [
    "```python\n",
    "# Find the cleanliness category in airlines not in categories\n",
    "cat_clean = set(airlines['cleanliness']).difference(categories['cleanliness'])\n",
    "\n",
    "# Find rows with that category\n",
    "cat_clean_rows = airlines['cleanliness'].isin(cat_clean)\n",
    "\n",
    "# Print rows with inconsistent category\n",
    "print(airlines[cat_clean_rows])\n",
    "```"
   ]
  },
  {
   "cell_type": "markdown",
   "id": "b8d30e50",
   "metadata": {},
   "source": [
    "```\n",
    "       id        day           airline  destination  dest_region dest_size boarding_area   dept_time  wait_min   cleanliness         safety        satisfaction\n",
    "4    2992  Wednesday          AMERICAN        MIAMI      East US       Hub   Gates 50-59  2018-12-31     559.0  Unacceptable      Very safe  Somewhat satisfied\n",
    "18   2913     Friday  TURKISH AIRLINES     ISTANBUL  Middle East       Hub  Gates 91-102  2018-12-31     225.0  Unacceptable      Very safe  Somewhat satisfied\n",
    "100  2321  Wednesday         SOUTHWEST  LOS ANGELES      West US       Hub   Gates 20-39  2018-12-31     130.0  Unacceptable  Somewhat safe  Somewhat satisfied\n",
    "```"
   ]
  },
  {
   "cell_type": "markdown",
   "id": "a465a6b5",
   "metadata": {},
   "source": [
    "### 2.3.4 Instructions 4/4\n",
    "\n",
    "- Print the rows with the consistent categories of `cleanliness` only."
   ]
  },
  {
   "cell_type": "markdown",
   "id": "e71382a2",
   "metadata": {},
   "source": [
    "```python\n",
    "# Find the cleanliness category in airlines not in categories\n",
    "cat_clean = set(airlines['cleanliness']).difference(categories['cleanliness'])\n",
    "\n",
    "# Find rows with that category\n",
    "cat_clean_rows = airlines['cleanliness'].isin(cat_clean)\n",
    "\n",
    "# Print rows with inconsistent category\n",
    "print(airlines[cat_clean_rows])\n",
    "\n",
    "# Print rows with consistent categories only\n",
    "print(airlines[~cat_clean_rows])\n",
    "```"
   ]
  },
  {
   "cell_type": "markdown",
   "id": "70b6df06",
   "metadata": {},
   "source": [
    "```\n",
    "       id        day           airline  destination  dest_region dest_size boarding_area   dept_time  wait_min   cleanliness         safety        satisfaction\n",
    "4    2992  Wednesday          AMERICAN        MIAMI      East US       Hub   Gates 50-59  2018-12-31     559.0  Unacceptable      Very safe  Somewhat satisfied\n",
    "18   2913     Friday  TURKISH AIRLINES     ISTANBUL  Middle East       Hub  Gates 91-102  2018-12-31     225.0  Unacceptable      Very safe  Somewhat satisfied\n",
    "100  2321  Wednesday         SOUTHWEST  LOS ANGELES      West US       Hub   Gates 20-39  2018-12-31     130.0  Unacceptable  Somewhat safe  Somewhat satisfied\n",
    "        id       day        airline        destination    dest_region dest_size boarding_area   dept_time  wait_min     cleanliness         safety        satisfaction\n",
    "0     1351   Tuesday    UNITED INTL             KANSAI           Asia       Hub  Gates 91-102  2018-12-31     115.0           Clean        Neutral      Very satisfied\n",
    "1      373    Friday         ALASKA  SAN JOSE DEL CABO  Canada/Mexico     Small   Gates 50-59  2018-12-31     135.0           Clean      Very safe      Very satisfied\n",
    "2     2820  Thursday          DELTA        LOS ANGELES        West US       Hub   Gates 40-48  2018-12-31      70.0         Average  Somewhat safe             Neutral\n",
    "3     1157   Tuesday      SOUTHWEST        LOS ANGELES        West US       Hub   Gates 20-39  2018-12-31     190.0           Clean      Very safe  Somewhat satisfied\n",
    "5      634  Thursday         ALASKA             NEWARK        East US       Hub   Gates 50-59  2018-12-31     140.0  Somewhat clean      Very safe      Very satisfied\n",
    "...    ...       ...            ...                ...            ...       ...           ...         ...       ...             ...            ...                 ...\n",
    "2804  1475   Tuesday         ALASKA       NEW YORK-JFK        East US       Hub   Gates 50-59  2018-12-31     280.0  Somewhat clean        Neutral  Somewhat satisfied\n",
    "2805  2222  Thursday      SOUTHWEST            PHOENIX        West US       Hub   Gates 20-39  2018-12-31     165.0           Clean      Very safe      Very satisfied\n",
    "2806  2684    Friday         UNITED            ORLANDO        East US       Hub   Gates 70-90  2018-12-31      92.0           Clean      Very safe      Very satisfied\n",
    "2807  2549   Tuesday        JETBLUE         LONG BEACH        West US     Small    Gates 1-12  2018-12-31      95.0           Clean  Somewhat safe      Very satisfied\n",
    "2808  2162  Saturday  CHINA EASTERN            QINGDAO           Asia     Large    Gates 1-12  2018-12-31     220.0           Clean      Very safe  Somewhat satisfied\n",
    "\n",
    "[2474 rows x 12 columns]\n",
    "```"
   ]
  },
  {
   "cell_type": "markdown",
   "id": "5caab96f",
   "metadata": {},
   "source": [
    "## 2.4 Categorical variables"
   ]
  },
  {
   "cell_type": "markdown",
   "id": "e281943c",
   "metadata": {},
   "source": [
    "## 2.5 Categories of errors\n",
    "\n",
    "In the video exercise, you saw how to address common problems affecting categorical variables in your data, including white spaces and inconsistencies in your categories, and the problem of creating new categories and mapping existing ones to new ones.\n",
    "\n",
    "To get a better idea of the toolkit at your disposal, you will be mapping functions and methods from `pandas` and Python used to address each type of problem."
   ]
  },
  {
   "cell_type": "markdown",
   "id": "66865034",
   "metadata": {},
   "source": [
    "### 2.5.1 Instructions\n",
    "\n",
    "- Map each function/method to the categorical data problem it solves.\n",
    "\n",
    "| White spaces and inconsistancy | Creating or remapping categories |\n",
    "|:------------------------------:|:--------------------------------:|\n",
    "| `.str.lower()`                 | `pandas.qcut()`                  |\n",
    "| `.str.strip()`                 | `pandas.cut()`                   |\n",
    "| `.str.upper()`                 | `.replace()`                     |\n"
   ]
  },
  {
   "cell_type": "markdown",
   "id": "c9dffc0b",
   "metadata": {},
   "source": [
    "## 2.6 Inconsistent categories\n",
    "\n",
    "In this exercise, you'll be revisiting the `airlines` DataFrame from the previous lesson.\n",
    "\n",
    "As a reminder, the DataFrame contains flight metadata such as the airline, the destination, waiting times as well as answers to key questions regarding cleanliness, safety, and satisfaction on the San Francisco Airport.\n",
    "\n",
    "In this exercise, you will examine two categorical columns from this DataFrame, `dest_region` and `dest_size` respectively, assess how to address them and make sure that they are cleaned and ready for analysis. The `pandas` package has been imported as `pd`, and the `airlines` DataFrame is in your environment."
   ]
  },
  {
   "cell_type": "markdown",
   "id": "4203a0dc",
   "metadata": {},
   "source": [
    "### 2.6.1 Instructions 1/4\n",
    "\n",
    "- Print the unique values in `dest_region` and `dest_size` respectively."
   ]
  },
  {
   "cell_type": "markdown",
   "id": "a22b7996",
   "metadata": {},
   "source": [
    "```python\n",
    "# Print unique values of both columns\n",
    "print(airlines['dest_region'].unique())\n",
    "print(airlines['dest_size'].unique())\n",
    "```"
   ]
  },
  {
   "cell_type": "markdown",
   "id": "1a3a0973",
   "metadata": {},
   "source": [
    "```\n",
    "['Asia' 'Canada/Mexico' 'West US' 'East US' 'Midwest US' 'EAST US'\n",
    " 'Middle East' 'Europe' 'eur' 'Central/South America'\n",
    " 'Australia/New Zealand' 'middle east']\n",
    "['Hub' 'Small' '    Hub' 'Medium' 'Large' 'Hub     ' '    Small'\n",
    " 'Medium     ' '    Medium' 'Small     ' '    Large' 'Large     ']\n",
    "```"
   ]
  },
  {
   "cell_type": "markdown",
   "id": "c7b0cbaa",
   "metadata": {},
   "source": [
    "### 2.6.2 Instructions 2/4\n",
    "\n",
    "### Question\n",
    "\n",
    "From looking at the output, what do you think is the problem with these columns?\n",
    "\n",
    "### Possible answers\n",
    "\n",
    "The `dest_region` column has only inconsistent values due to capitalization.\n",
    "\n",
    "- [ ] The `dest_region` column has only inconsistent values due to capitalization\n",
    "\n",
    "- [ ] The `dest_region` column has only inconsistent values due to capitalization and has one value that needs to be remapped.\n",
    "\n",
    "- [ ] The `dest_size` column has only inconsistent values due to leading and trailing spaces.\n",
    "\n",
    "- [x] Both 2 and 3 are correct."
   ]
  },
  {
   "cell_type": "markdown",
   "id": "2676c8a7",
   "metadata": {},
   "source": [
    "### 2.6.3 Instructions 3/4\n",
    "\n",
    "- Change the capitalization of all values of `dest_region` to lowercase.\n",
    "- Replace the `'eur'` with `'europe'` in `dest_region` using the `.replace()` method. "
   ]
  },
  {
   "cell_type": "markdown",
   "id": "c40f319b",
   "metadata": {},
   "source": [
    "```python\n",
    "# Print unique values of both columns\n",
    "print(airlines['dest_region'].unique())\n",
    "print(airlines['dest_size'].unique())\n",
    "\n",
    "# Lower dest_region column and then replace \"eur\" with \"europe\"\n",
    "airlines['dest_region'] = airlines['dest_region'].str.lower()\n",
    "airlines['dest_region'] = airlines['dest_region'].replace({'eur':'europe'})\n",
    "```"
   ]
  },
  {
   "cell_type": "markdown",
   "id": "4ee713c6",
   "metadata": {},
   "source": [
    "\n",
    "```\n",
    "['Asia' 'Canada/Mexico' 'West US' 'East US' 'Midwest US' 'EAST US'\n",
    " 'Middle East' 'Europe' 'eur' 'Central/South America'\n",
    " 'Australia/New Zealand' 'middle east']\n",
    "['Hub' 'Small' '    Hub' 'Medium' 'Large' 'Hub     ' '    Small'\n",
    " 'Medium     ' '    Medium' 'Small     ' '    Large' 'Large     ']\n",
    "```"
   ]
  },
  {
   "cell_type": "markdown",
   "id": "05f7503c",
   "metadata": {},
   "source": [
    "### 2.6.4 Instructions 4/4\n",
    "\n",
    "- Strip white spaces from the `dest_size` column using the `.strip()` method.\n",
    "- Verify that the changes have been into effect by printing the unique values of the columns using `.unique()`"
   ]
  },
  {
   "cell_type": "markdown",
   "id": "955c320d",
   "metadata": {},
   "source": [
    "```python\n",
    "# Print unique values of both columns\n",
    "print(airlines['dest_region'].unique())\n",
    "print(airlines['dest_size'].unique())\n",
    "\n",
    "# Lower dest_region column and then replace \"eur\" with \"europe\"\n",
    "airlines['dest_region'] = airlines['dest_region'].str.lower() \n",
    "airlines['dest_region'] = airlines['dest_region'].replace({'eur':'europe'})\n",
    "\n",
    "# Remove white spaces from `dest_size`\n",
    "airlines['dest_size'] = airlines['dest_size'].str.strip()\n",
    "\n",
    "# Verify changes have been effected\n",
    "print(airlines['dest_region'].unique())\n",
    "print(airlines['dest_size'].unique())\n",
    "```"
   ]
  },
  {
   "cell_type": "markdown",
   "id": "0f99231c",
   "metadata": {},
   "source": [
    "```\n",
    "['Asia' 'Canada/Mexico' 'West US' 'East US' 'Midwest US' 'EAST US'\n",
    " 'Middle East' 'Europe' 'eur' 'Central/South America'\n",
    " 'Australia/New Zealand' 'middle east']\n",
    "['Hub' 'Small' '    Hub' 'Medium' 'Large' 'Hub     ' '    Small'\n",
    " 'Medium     ' '    Medium' 'Small     ' '    Large' 'Large     ']\n",
    "['asia' 'canada/mexico' 'west us' 'east us' 'midwest us' 'middle east'\n",
    " 'europe' 'central/south america' 'australia/new zealand']\n",
    "['Hub' 'Small' 'Medium' 'Large']\n",
    "```"
   ]
  },
  {
   "cell_type": "markdown",
   "id": "abd709e4",
   "metadata": {},
   "source": [
    "## 2.7 Remapping categories\n",
    "\n",
    "To better understand survey respondents from `airlines`, you want to find out if there is a relationship between certain responses and the day of the week and wait time at the gate.\n",
    "\n",
    "The `airlines` DataFrame contains the `day` and `wait_min` columns, which are categorical and numerical respectively. The `day` column contains the exact day a flight took place, and `wait_min` contains the amount of minutes it took travelers to wait at the gate. To make your analysis easier, you want to create two new categorical variables:\n",
    "\n",
    "- `wait_type`: `'short'` for 0-60 min, `'medium'` for 60-180 and `long` for 180+\n",
    "- `day_week`: `'weekday'` if day is in the weekday, `'weekend'` if day is in the weekend.\n",
    "\n",
    "The `pandas` and `numpy` packages have been imported as `pd` and `np`. Let's create some new categorical data!"
   ]
  },
  {
   "cell_type": "markdown",
   "id": "293d736c",
   "metadata": {},
   "source": [
    "### 2.7.1 Instructions\n",
    "\n",
    "- Create the ranges and labels for the `wait_type` column mentioned in the description.\n",
    "- Create the `wait_type` column by from `wait_min` by using `pd.cut()`, while inputting `label_ranges` and `label_names` in the correct arguments.\n",
    "- Create the `mapping` dictionary mapping weekdays to `'weekday'` and weekend days to `'weekend'`.\n",
    "- Create the `day_week` column by using `.replace()`."
   ]
  },
  {
   "cell_type": "markdown",
   "id": "1a78e4f0",
   "metadata": {},
   "source": [
    "```python\n",
    "# Create ranges for categories\n",
    "label_ranges = [0, 60, 180, np.inf]\n",
    "label_names = ['short', 'medium', 'long']\n",
    "\n",
    "# Create wait_type column\n",
    "airlines['wait_type'] = pd.cut(airlines['wait_min'], bins = label_ranges, \n",
    "                                labels = label_names)\n",
    "\n",
    "# Create mappings and replace\n",
    "mappings = {'Monday':'weekday', 'Tuesday':'weekday', 'Wednesday': 'weekday', \n",
    "            'Thursday': 'weekday', 'Friday': 'weekday', \n",
    "            'Saturday': 'weekend', 'Sunday': 'weekend'}\n",
    "\n",
    "airlines['day_week'] = airlines['day'].replace(mappings)\n",
    "```"
   ]
  },
  {
   "cell_type": "markdown",
   "id": "b84ad01f",
   "metadata": {},
   "source": [
    "## 2.8 Cleaning text data"
   ]
  },
  {
   "cell_type": "markdown",
   "id": "a273d61d",
   "metadata": {},
   "source": [
    "## 2.9 Removing titles and taking names\n",
    "\n",
    "While collecting survey respondent metadata in the `airlines` DataFrame, the full name of respondents was saved in the `full_name` column. However upon closer inspection, you found that a lot of the different names are prefixed by honorifics such as `\"Dr.\"`, `\"Mr.\"`, `\"Ms.\"` and `\"Miss\"`.\n",
    "\n",
    "Your ultimate objective is to create two new columns named `first_name` and `last_name`, containing the first and last names of respondents respectively. Before doing so however, you need to remove honorifics.\n",
    "\n",
    "The `airlines` DataFrame is in your environment, alongside `pandas` as `pd.`"
   ]
  },
  {
   "cell_type": "markdown",
   "id": "64f037de",
   "metadata": {},
   "source": [
    "### 2.9.1 Instructions\n",
    "\n",
    "- Remove `\"Dr.\"`, `\"Mr.\"`, `\"Miss\"` and `\"Ms.\"` from `full_name` by replacing them with an empty string `\"\"` in that order.\n",
    "- Run the `assert` statement using `.str.contains()` that tests whether `full_name` still contains any of the honorifics."
   ]
  },
  {
   "cell_type": "markdown",
   "id": "c3a25b65",
   "metadata": {},
   "source": [
    "```python\n",
    "# Replace \"Dr.\" with empty string \"\"\n",
    "airlines['full_name'] = airlines['full_name'].str.replace(\"Dr.\",\"\")\n",
    "\n",
    "# Replace \"Mr.\" with empty string \"\"\n",
    "airlines['full_name'] = airlines['full_name'].str.replace(\"Mr.\",\"\")\n",
    "\n",
    "# Replace \"Miss\" with empty string \"\"\n",
    "airlines['full_name'] = airlines['full_name'].str.replace(\"Miss\",\"\")\n",
    "\n",
    "# Replace \"Ms.\" with empty string \"\"\n",
    "airlines['full_name'] = airlines['full_name'].str.replace(\"Ms.\",\"\")\n",
    "\n",
    "# Assert that full_name has no honorifics\n",
    "assert airlines['full_name'].str.contains('Ms.|Mr.|Miss|Dr.').any() == False\n",
    "```"
   ]
  },
  {
   "cell_type": "markdown",
   "id": "7eb9cd3b",
   "metadata": {},
   "source": [
    "## 2.10 Keeping it descriptive\n",
    "\n",
    "To further understand travelers' experiences in the San Francisco Airport, the quality assurance department sent out a qualitative questionnaire to all travelers who gave the airport the worst score on all possible categories. The objective behind this questionnaire is to identify common patterns in what travelers are saying about the airport.\n",
    "\n",
    "Their response is stored in the `survey_response` column. Upon a closer look, you realized a few of the answers gave the shortest possible character amount without much substance. In this exercise, you will isolate the responses with a character count higher than ***40*** , and make sure your new DataFrame contains responses with ***40*** characters or more using an `assert` statement.\n",
    "\n",
    "The `airlines` DataFrame is in your environment, and `pandas` is imported as `pd`."
   ]
  },
  {
   "cell_type": "markdown",
   "id": "b556650d",
   "metadata": {},
   "source": [
    "### 2.10.1 Instructions\n",
    "\n",
    "- Using the `airlines` DataFrame, store the length of each instance in the `survey_response` column in `resp_length` by using `.str.len()`.\n",
    "- Isolate the rows of `airlines` with `resp_length` higher than `40`.\n",
    "- Assert that the smallest `survey_response` length in `airlines_survey` is now bigger than `40`."
   ]
  },
  {
   "cell_type": "markdown",
   "id": "95d054ad",
   "metadata": {},
   "source": [
    "```python\n",
    "# Store length of each row in survey_response column\n",
    "resp_length = airlines['survey_response'].str.len()\n",
    "\n",
    "# Find rows in airlines where resp_length > 40\n",
    "airlines_survey = airlines[resp_length > 40]\n",
    "\n",
    "# Assert minimum survey_response length is > 40\n",
    "assert airlines_survey['survey_response'].str.len().min() > 40\n",
    "\n",
    "# Print new survey_response column\n",
    "print(airlines_survey['survey_response'])\n",
    "```"
   ]
  },
  {
   "cell_type": "markdown",
   "id": "b05208a7",
   "metadata": {},
   "source": [
    "```\n",
    "18    The airport personnell forgot to alert us of d...\n",
    "19    The food in the airport was really really expe...\n",
    "20    One of the other travelers was really loud and...\n",
    "21    I don't remember answering the survey with the...\n",
    "22    The airport personnel kept ignoring my request...\n",
    "23    The chair I sat in was extremely uncomfortable...\n",
    "24    I wish you were more like other airports, the ...\n",
    "25    I was really unsatisfied with the wait times b...\n",
    "27    The flight was okay, but I didn't really like ...\n",
    "28    We were really slowed down by security measure...\n",
    "29    There was a spill on the aisle next to the bat...\n",
    "30    I felt very unsatisfied by how long the flight...\n",
    "Name: survey_response, dtype: object\n",
    "```"
   ]
  },
  {
   "cell_type": "markdown",
   "id": "d7406963",
   "metadata": {},
   "source": [
    "# 3 Advanced data problems\n",
    "\n",
    "In this chapter, you’ll dive into more advanced data cleaning problems, such as ensuring that weights are all written in kilograms instead of pounds. You’ll also gain invaluable skills that will help you verify that values have been added correctly and that missing values don’t negatively impact your analyses."
   ]
  },
  {
   "cell_type": "markdown",
   "id": "902a23cb",
   "metadata": {},
   "source": [
    "## 3.1 Uniformity"
   ]
  },
  {
   "cell_type": "markdown",
   "id": "ba84561f",
   "metadata": {},
   "source": [
    "## 3.2 Ambiguous dates\n",
    "\n",
    "You have a DataFrame containing a `subscription_date` column that was collected from various sources with different Date formats such as `YYYY-mm-dd` and `YYYY-dd-mm`. What is the best way to unify the formats for ambiguous values such as `2019-04-07`?\n",
    "\n",
    "### 3.2.1 Answer the question\n",
    "\n",
    "### Possible Answers\n",
    "\n",
    "- [ ] Set them to `NA` and drop them.\n",
    "\n",
    "- [ ] Infer the format of the data in question by checking the format of subsequent and previous values.\n",
    "\n",
    "- [ ] Infer the format from the original data source.\n",
    "\n",
    "- [x] All of the above are possible, as long as we investigate where our data comes from, and understand the dynamics affecting it before cleaning it."
   ]
  },
  {
   "cell_type": "markdown",
   "id": "c17666e5",
   "metadata": {},
   "source": [
    "## 3.3 Uniform currencies\n",
    "\n",
    "In this exercise and throughout this chapter, you will be working with a retail banking dataset stored in the `banking` DataFrame. The dataset contains data on the amount of money stored in accounts (`acct_amount`), their currency (`acct_cur`), amount invested (`inv_amount`), account opening date (`account_opened`), and last transaction date (`last_transaction`) that were consolidated from American and European branches.\n",
    "\n",
    "You are tasked with understanding the average account size and how investments vary by the size of account, however in order to produce this analysis accurately, you first need to unify the currency amount into dollars. The `pandas` package has been imported as `pd`, and the `banking` DataFrame is in your environment."
   ]
  },
  {
   "cell_type": "markdown",
   "id": "596b5537",
   "metadata": {},
   "source": [
    "### 3.3.1 Instructions\n",
    "\n",
    "- Find the rows of `acct_cur` in `banking` that are equal to `'euro'` and store them in the variable `acct_eu`.\n",
    "- Find all the rows of `acct_amount` in `banking` that fit the `acct_eu` condition, and convert them to USD by multiplying them with `1.1`.\n",
    "- Find all the rows of `acct_cur` in `banking` that fit the `acct_eu` condition, set them to `'dollar'`."
   ]
  },
  {
   "cell_type": "markdown",
   "id": "fad8913a",
   "metadata": {},
   "source": [
    "```python\n",
    "# Find values of acct_cur that are equal to 'euro'\n",
    "acct_eu = banking['acct_cur'] == 'euro'\n",
    "\n",
    "# Convert acct_amount where it is in euro to dollars\n",
    "banking.loc[acct_eu, 'acct_amount'] = banking.loc[acct_eu, 'acct_amount'] * 1.1\n",
    "\n",
    "# Unify acct_cur column by changing 'euro' values to 'dollar'\n",
    "banking.loc[acct_eu, 'acct_cur'] = 'dollar'\n",
    "\n",
    "# Assert that only dollar currency remains\n",
    "assert banking['acct_cur'].unique() == 'dollar'\n",
    "```"
   ]
  },
  {
   "cell_type": "markdown",
   "id": "2810d79e",
   "metadata": {},
   "source": [
    "## 3.4 Uniform dates\n",
    "\n",
    "After having unified the currencies of your different account amounts, you want to add a temporal dimension to your analysis and see how customers have been investing their money given the size of their account over each year. The `account_opened` column represents when customers opened their accounts and is a good proxy for segmenting customer activity and investment over time.\n",
    "\n",
    "However, since this data was consolidated from multiple sources, you need to make sure that all dates are of the same format. You will do so by converting this column into a `datetime` object, while making sure that the format is inferred and potentially incorrect formats are set to missing. The `banking` DataFrame is in your environment and `pandas` was imported as `pd`."
   ]
  },
  {
   "cell_type": "markdown",
   "id": "cb354360",
   "metadata": {},
   "source": [
    "### 3.4.1 Instructions 1/4\n",
    "\n",
    "- Print the header of `account_opened` from the `banking` DataFrame and take a look at the different results."
   ]
  },
  {
   "cell_type": "markdown",
   "id": "947431ef",
   "metadata": {},
   "source": [
    "```python\n",
    "# Print the header of account_opened\n",
    "print(banking['account_opened'].head())\n",
    "```"
   ]
  },
  {
   "cell_type": "markdown",
   "id": "c6ac1682",
   "metadata": {},
   "source": [
    "```\n",
    "0          2018-03-05\n",
    "1            21-01-18\n",
    "2    January 26, 2018\n",
    "3            21-14-17\n",
    "4            05-06-17\n",
    "Name: account_opened, dtype: object\n",
    "```"
   ]
  },
  {
   "cell_type": "markdown",
   "id": "7fa051da",
   "metadata": {},
   "source": [
    "### 3.4.2 Instructions 2/4\n",
    "\n",
    "### Question\n",
    "\n",
    "Take a look at the output. You tried converting the values to `datetime` using the default `to_datetime()` function without changing any argument, however received the following error:\n",
    "\n",
    "```\n",
    "ValueError: month must be in 1..12\n",
    "```\n",
    "\n",
    "Why do you think that is?\n",
    "\n",
    "### Possible answers\n",
    "\n",
    "- [ ] The `to_datetime()` function needs to be explicity told which date format each row is in.\n",
    "\n",
    "- [ ] The `to_datetime()` function can only be applied on `YY-mm-dd` date formats.\n",
    "\n",
    "- [x] The `21-14-17` entry is erroneous and leads to an error."
   ]
  },
  {
   "cell_type": "markdown",
   "id": "875d7a92",
   "metadata": {},
   "source": [
    "### 3.4.3 Instructions 3/4\n",
    "\n",
    "- Convert the `account_opened` column to `datetime`, while making sure the date format is inferred and that erroneous formats that raise error return a missing value."
   ]
  },
  {
   "cell_type": "markdown",
   "id": "2ee9d2a6",
   "metadata": {},
   "source": [
    "```python\n",
    "# Print the header of account_opened\n",
    "print(banking['account_opened'].head())\n",
    "\n",
    "# Convert account_opened to datetime\n",
    "banking['account_opened'] = pd.to_datetime(banking['account_opened'],\n",
    "                                           # Infer datetime format\n",
    "                                           infer_datetime_format = True,\n",
    "                                           # Return missing value for error\n",
    "                                           errors = 'coerce') \n",
    "```"
   ]
  },
  {
   "cell_type": "markdown",
   "id": "3bec3138",
   "metadata": {},
   "source": [
    "```\n",
    "0          2018-03-05\n",
    "1            21-01-18\n",
    "2    January 26, 2018\n",
    "3            21-14-17\n",
    "4            05-06-17\n",
    "Name: account_opened, dtype: object\n",
    "```"
   ]
  },
  {
   "cell_type": "markdown",
   "id": "31388d37",
   "metadata": {},
   "source": [
    "### 3.4.4 Instructions 4/4\n",
    "\n",
    "- Extract the year from the amended `account_opened` column and assign it to the `acct_year` column.\n",
    "- Print the newly created `acct_year` column."
   ]
  },
  {
   "cell_type": "markdown",
   "id": "4817aaf0",
   "metadata": {},
   "source": [
    "```python\n",
    "# Print the header of account_opend\n",
    "print(banking['account_opened'].head())\n",
    "\n",
    "# Convert account_opened to datetime\n",
    "banking['account_opened'] = pd.to_datetime(banking['account_opened'],\n",
    "                                           # Infer datetime format\n",
    "                                           infer_datetime_format = True,\n",
    "                                           # Return missing value for error\n",
    "                                           errors = 'coerce') \n",
    "\n",
    "# Get year of account opened\n",
    "banking['acct_year'] = banking['account_opened'].dt.strftime('%Y')\n",
    "\n",
    "# Print acct_year\n",
    "print(banking['acct_year'])\n",
    "```"
   ]
  },
  {
   "cell_type": "markdown",
   "id": "1a2291ca",
   "metadata": {},
   "source": [
    "```\n",
    "0          2018-03-05\n",
    "1            21-01-18\n",
    "2    January 26, 2018\n",
    "3            21-14-17\n",
    "4            05-06-17\n",
    "Name: account_opened, dtype: object\n",
    "0     2018\n",
    "1     2018\n",
    "2     2018\n",
    "3      NaN\n",
    "4     2017\n",
    "      ... \n",
    "92    2017\n",
    "93    2018\n",
    "94    2018\n",
    "95    2017\n",
    "96    2017\n",
    "Name: acct_year, Length: 97, dtype: object\n",
    "```"
   ]
  },
  {
   "cell_type": "markdown",
   "id": "067ae91f",
   "metadata": {},
   "source": [
    "## 3.5 Cross field validation"
   ]
  },
  {
   "cell_type": "markdown",
   "id": "07e2fedb",
   "metadata": {},
   "source": [
    "## 3.6 Cross field or no cross field?\n",
    "\n",
    "Throughout this course, you've been immersed in a variety of data cleaning problems from range constraints, data type constraints, uniformity and more.\n",
    "\n",
    "In this lesson, you were introduced to cross field validation as a means to sanity check your data and making sure you have strong data integrity.\n",
    "\n",
    "Now, you will map different applicable concepts and techniques to their respective categories."
   ]
  },
  {
   "cell_type": "markdown",
   "id": "7611d0e3",
   "metadata": {},
   "source": [
    "### 3.6.1 Instructions\n",
    "\n",
    "- Map different applicable concepts and techniques to their respective categories.\n",
    "\n",
    "| Cross field validation                                                  | Not cross field validation                                                |\n",
    "|:-----------------------------------------------------------------------:|:-------------------------------------------------------------------------:|\n",
    "| Confirming the Age provided by users by cross checking their birthdays. | Making sure a `subscription_date` column has no values set in the future. |\n",
    "| Row wise operations such as `.sum(axis = 1)`                            | The use of the `.astype()` method.                                        |\n",
    "|                                                                         | Making sure that a `revenue` column is a numeric column.                  |"
   ]
  },
  {
   "cell_type": "markdown",
   "id": "aff9408c",
   "metadata": {},
   "source": [
    "## 3.7 How's our data integrity?\n",
    "\n",
    "New data has been merged into the `banking` DataFrame that contains details on how investments in the `inv_amount` column are allocated across four different funds A, B, C and D.\n",
    "\n",
    "Furthermore, the age and birthdays of customers are now stored in the `age` and `birth_date` columns respectively.\n",
    "\n",
    "You want to understand how customers of different age groups invest. However, you want to first make sure the data you're analyzing is correct. You will do so by cross field checking values of `inv_amount` and `age` against the amount invested in different funds and customers' birthdays. Both `pandas` and `datetime` have been imported as `pd` and `dt` respectively."
   ]
  },
  {
   "cell_type": "markdown",
   "id": "18ad9821",
   "metadata": {},
   "source": [
    "### 3.7.1 Instructions 1/2\n",
    "\n",
    "- Find the rows where the sum of all rows of the `fund_columns` in `banking` are equal to the `inv_amount` column.\n",
    "- Store the values of `banking` with consistent `inv_amount` in `consistent_inv`, and those with inconsistent ones in `inconsistent_inv`."
   ]
  },
  {
   "cell_type": "markdown",
   "id": "36da4b56",
   "metadata": {},
   "source": [
    "```python\n",
    "# Store fund columns to sum against\n",
    "fund_columns = ['fund_A', 'fund_B', 'fund_C', 'fund_D']\n",
    "\n",
    "# Find rows where fund_columns row sum == inv_amount\n",
    "inv_equ = banking[fund_columns].sum(axis = 1) == banking['inv_amount']\n",
    "\n",
    "# Store consistent and inconsistent data\n",
    "consistent_inv = banking[inv_equ]\n",
    "inconsistent_inv = banking[~inv_equ]\n",
    "\n",
    "# Store consistent and inconsistent data\n",
    "print(\"Number of inconsistent investments: \", inconsistent_inv.shape[0])\n",
    "```"
   ]
  },
  {
   "cell_type": "markdown",
   "id": "ecd90b33",
   "metadata": {},
   "source": [
    "```\n",
    "Number of inconsistent investments:  8\n",
    "```"
   ]
  },
  {
   "cell_type": "markdown",
   "id": "c8deee03",
   "metadata": {},
   "source": [
    "### 3.7.2 Instructions 2/2\n",
    "\n",
    "- Store today's date into `today`, and manually calculate customers' ages and store them in `ages_manual`.\n",
    "\n",
    "- Find all rows of `banking` where the `age` column is equal to `ages_manual` and then filter `banking` into `consistent_ages` and `inconsistent_ages`."
   ]
  },
  {
   "cell_type": "markdown",
   "id": "34367404",
   "metadata": {},
   "source": [
    "```python\n",
    "# Store today's date and find ages\n",
    "today = dt.date.today()\n",
    "ages_manual = today.year - banking['birth_date'].dt.year\n",
    "\n",
    "# Find rows where age column == ages_manual\n",
    "age_equ = ages_manual == banking['age']\n",
    "\n",
    "# Store consistent and inconsistent data\n",
    "consistent_ages = banking[age_equ]\n",
    "inconsistent_ages = banking[~age_equ]\n",
    "\n",
    "# Store consistent and inconsistent data\n",
    "print(\"Number of inconsistent ages: \", inconsistent_ages.shape[0])\n",
    "```"
   ]
  },
  {
   "cell_type": "markdown",
   "id": "99e59676",
   "metadata": {},
   "source": [
    "```\n",
    "Number of inconsistent ages:  4\n",
    "```"
   ]
  },
  {
   "cell_type": "markdown",
   "id": "eb39f894",
   "metadata": {},
   "source": [
    "## 3.8 Completeness"
   ]
  },
  {
   "cell_type": "markdown",
   "id": "ecee8479",
   "metadata": {},
   "source": [
    "## 3.9 Is this missing at random?\n",
    "\n",
    "You've seen in the video exercise how there are a variety of missingness types when observing missing data. As a reminder, missingness types can be described as the following:\n",
    "\n",
    "- **Missing Completely at Random:** No systematic relationship between a column's missing values and other or own values.*\n",
    "- **Missing at Random:** There is a systematic relationship between a column's missing values and other **observed** values.*\n",
    "- **Missing not at Random:** There is a systematic relationship between a column's missing values and **unobserved** values.*\n",
    "\n",
    "You have a DataFrame containing customer satisfaction scores for a service. What type of missingness is the following?  \n",
    "\n",
    " *A customer* `satisfaction_score` *column with missing values for highly dissatisfied customers.*"
   ]
  },
  {
   "cell_type": "markdown",
   "id": "1929548a",
   "metadata": {},
   "source": [
    "### 3.9.1 Answer the question\n",
    "\n",
    "### Possible Answers\n",
    "\n",
    "- [ ] Missing completely at random.\n",
    "\n",
    "- [ ] Missing at random.\n",
    "\n",
    "- [x] Missing not at random."
   ]
  },
  {
   "cell_type": "markdown",
   "id": "6085e8f9",
   "metadata": {},
   "source": [
    "## 3.10 Missing investors\n",
    "\n",
    "Dealing with missing data is one of the most common tasks in data science. There are a variety of types of missingness, as well as a variety of types of solutions to missing data.\n",
    "\n",
    "You just received a new version of the `banking` DataFrame containing data on the amount held and invested for new and existing customers. However, there are rows with missing `inv_amount` values.\n",
    "\n",
    "You know for a fact that most customers below 25 do not have investment accounts yet, and suspect it could be driving the missingness. The `pandas`, `missingno` and `matplotlib.pyplot` packages have been imported as `pd`, `msno` and `plt` respectively. The `banking` DataFrame is in your environment."
   ]
  },
  {
   "cell_type": "markdown",
   "id": "f10240b4",
   "metadata": {},
   "source": [
    "### 3.10.1 Instructions 1/4\n",
    "\n",
    "- Print the number of missing values by column in the `banking` DataFrame.\n",
    "- Plot and show the missingness matrix of `banking` with the `msno.matrix()` function."
   ]
  },
  {
   "cell_type": "markdown",
   "id": "53182ab2",
   "metadata": {},
   "source": [
    "```python\n",
    "# Print number of missing values in banking\n",
    "print(banking.isna().sum())\n",
    "\n",
    "# Visualize missingness matrix\n",
    "msno.matrix(banking)\n",
    "plt.show()\n",
    "```"
   ]
  },
  {
   "cell_type": "markdown",
   "id": "60fde4c8",
   "metadata": {},
   "source": [
    "```\n",
    "cust_id              0\n",
    "age                  0\n",
    "acct_amount          0\n",
    "inv_amount          13\n",
    "account_opened       0\n",
    "last_transaction     0\n",
    "dtype: int64\n",
    "```"
   ]
  },
  {
   "attachments": {
    "1.png": {
     "image/png": "[encoded data removed]"
    }
   },
   "cell_type": "markdown",
   "id": "050fe288",
   "metadata": {},
   "source": [
    "![1.png](attachment:1.png)"
   ]
  },
  {
   "cell_type": "markdown",
   "id": "50be1c63",
   "metadata": {},
   "source": [
    "### 3.10.2 Instructions 2/4\n",
    "\n",
    "- Isolate the values of `banking` missing values of `inv_amount` into `missing_investors` and with non-missing `inv_amount` values into `investors`."
   ]
  },
  {
   "cell_type": "markdown",
   "id": "8ec6fcab",
   "metadata": {},
   "source": [
    "```python\n",
    "# Print number of missing values in banking\n",
    "print(banking.isna().sum())\n",
    "\n",
    "# Visualize missingness matrix\n",
    "msno.matrix(banking)\n",
    "plt.show()\n",
    "\n",
    "# Isolate missing and non missing values of inv_amount\n",
    "missing_investors = banking[banking['inv_amount'].isna()]\n",
    "investors = banking[~banking['inv_amount'].isna()]\n",
    "```"
   ]
  },
  {
   "cell_type": "markdown",
   "id": "ce4b791b",
   "metadata": {},
   "source": [
    "### 3.10.3 Instructions 3/4\n",
    "\n",
    "### Question\n",
    "\n",
    "Now that you've isolated `banking` into `investors` and `missing_investors`, use the `.describe()` method on both of these DataFrames in the IPython shell to understand whether there are structural differences between them. What do you think is going on?\n",
    "\n",
    "### Possible answers\n",
    "\n",
    "- [ ] The data is missing completely at random and there are no drivers behind the missingness.\n",
    "\n",
    "- [x] The `inv_amount` is missing only for young customers, since the average age in `missing_investors` is 22 and the maximum age is 25.\n",
    "\n",
    "- [ ] The `inv_amount` is missing only for old customers, since the average age in `missing_investors` is 42 and the maximum age is 59"
   ]
  },
  {
   "cell_type": "markdown",
   "id": "a4dbd0c1",
   "metadata": {},
   "source": [
    "### 3.10.4 Instructions 4/4\n",
    "\n",
    "- Sort the `banking` DataFrame by the `age` column and plot the missingness matrix of `banking_sorted`."
   ]
  },
  {
   "cell_type": "markdown",
   "id": "6231584c",
   "metadata": {},
   "source": [
    "```python\n",
    "# Print number of missing values in banking\n",
    "print(banking.isna().sum())\n",
    "\n",
    "# Visualize missingness matrix\n",
    "msno.matrix(banking)\n",
    "plt.show()\n",
    "\n",
    "# Isolate missing and non missing values of inv_amount\n",
    "missing_investors = banking[banking['inv_amount'].isna()]\n",
    "investors = banking[~banking['inv_amount'].isna()]\n",
    "\n",
    "# Sort banking by age and visualize\n",
    "banking_sorted = banking.sort_values(['age'])\n",
    "msno.matrix(banking_sorted)\n",
    "plt.show()\n",
    "```"
   ]
  },
  {
   "cell_type": "markdown",
   "id": "f412430c",
   "metadata": {},
   "source": [
    "```\n",
    "cust_id              0\n",
    "age                  0\n",
    "acct_amount          0\n",
    "inv_amount          13\n",
    "account_opened       0\n",
    "last_transaction     0\n",
    "dtype: int64\n",
    "```"
   ]
  },
  {
   "attachments": {
    "2.png": {
     "image/png": "[encoded data removed]"
    }
   },
   "cell_type": "markdown",
   "id": "3a8680ce",
   "metadata": {},
   "source": [
    "![2.png](attachment:2.png)"
   ]
  },
  {
   "cell_type": "markdown",
   "id": "5ab87bbd",
   "metadata": {},
   "source": [
    "## 3.11 Follow the money\n",
    "\n",
    "In this exercise, you're working with another version of the `banking` DataFrame that contains missing values for both the `cust_id` column and the `acct_amount` column.\n",
    "\n",
    "You want to produce analysis on how many unique customers the bank has, the average amount held by customers and more. You know that rows with missing `cust_id` don't really help you, and that on average `acct_amount` is usually 5 times the amount of `inv_amount`.\n",
    "\n",
    "In this exercise, you will drop rows of `banking` with missing `cust_id`s, and impute missing values of `acct_amount` with some domain knowledge."
   ]
  },
  {
   "cell_type": "markdown",
   "id": "24632011",
   "metadata": {},
   "source": [
    "### 3.11.1 Instructions\n",
    "\n",
    "- Use `.dropna()` to drop missing values of the `cust_id` column in `banking` and store the results in `banking_fullid`.\n",
    "- Use `inv_amount` to compute the estimated account amounts for `banking_fullid` by setting the amounts equal to `inv_amount * 5`, and assign the results to `acct_imp`.\n",
    "- Impute the missing values of `acct_amount` in `banking_fullid` with the newly created `acct_imp` using `.fillna()`."
   ]
  },
  {
   "cell_type": "markdown",
   "id": "2858717b",
   "metadata": {},
   "source": [
    "```python\n",
    "# Drop missing values of cust_id\n",
    "banking_fullid = banking.dropna(subset = ['cust_id'])\n",
    "\n",
    "# Compute estimated acct_amount\n",
    "acct_imp = banking_fullid['inv_amount']*5\n",
    "\n",
    "# Impute missing acct_amount with corresponding acct_imp\n",
    "banking_imputed = banking_fullid.fillna({'acct_amount':acct_imp})\n",
    "\n",
    "# Print number of missing values\n",
    "print(banking_imputed.isna().sum())\n",
    "```"
   ]
  },
  {
   "cell_type": "markdown",
   "id": "b1e0159a",
   "metadata": {},
   "source": [
    "```\n",
    "cust_id             0\n",
    "acct_amount         0\n",
    "inv_amount          0\n",
    "account_opened      0\n",
    "last_transaction    0\n",
    "dtype: int64\n",
    "```"
   ]
  },
  {
   "cell_type": "markdown",
   "id": "8d4b493f",
   "metadata": {},
   "source": [
    "# 4 Record linkage\n",
    "\n",
    "Record linkage is a powerful technique used to merge multiple datasets together, used when values have typos or different spellings. In this chapter, you'll learn how to link records by calculating the similarity between strings—you’ll then use your new skills to join two restaurant review datasets into one clean master dataset."
   ]
  },
  {
   "cell_type": "markdown",
   "id": "1d1f521c",
   "metadata": {},
   "source": [
    "## 4.1 Comparing strings"
   ]
  },
  {
   "cell_type": "markdown",
   "id": "787e7ee3",
   "metadata": {},
   "source": [
    "## 4.2 Minimum edit distance\n",
    "\n",
    "In the video exercise, you saw how minimum edit distance is used to identify how similar two strings are. As a reminder, minimum edit distance is the minimum number of steps needed to reach from ***String A*** to ***String B***, with the operations available being:\n",
    "\n",
    "- **Insertion** of a new character.\n",
    "- **Deletion** of an existing character.\n",
    "- **Substitution** of an existing character.\n",
    "- **Transposition** of two existing consecutive characters.\n",
    "\n",
    "*What is the minimum edit distance from* `'sign'` *to* `'sing'`, *and which operation(s) gets you there?*"
   ]
  },
  {
   "cell_type": "markdown",
   "id": "b2349412",
   "metadata": {},
   "source": [
    "### 4.2.1 Answer the question\n",
    "\n",
    "### Possible Answers\n",
    "\n",
    "- [ ] 2 by substituting `'g'` with `'n'` and `'n'` with `'g'`.\n",
    "\n",
    "- [x] 1 by transposing `'g'` with `'n'`.\n",
    "\n",
    "- [ ] 1 by substituting `'g'` with `'n'`.\n",
    "\n",
    "- [ ] 2 by deleting `'g'` and inserting a new `'g'` at the end."
   ]
  },
  {
   "cell_type": "markdown",
   "id": "14c62848",
   "metadata": {},
   "source": [
    "## 4.3 The cutoff point\n",
    "\n",
    "In this exercise, and throughout this chapter, you'll be working with the `restaurants` DataFrame which has data on various restaurants. Your ultimate goal is to create a restaurant recommendation engine, but you need to first clean your data.\n",
    "\n",
    "This version of `restaurants` has been collected from many sources, where the `cuisine_type` column is riddled with typos, and should contain only `italian`, `american` and `asian` cuisine types. There are so many unique categories that remapping them manually isn't scalable, and it's best to use string similarity instead.\n",
    "\n",
    "Before doing so, you want to establish the cutoff point for the similarity score using the `thefuzz`'s `process.extract()` function by finding the similarity score of the most *distant* typo of each category."
   ]
  },
  {
   "cell_type": "markdown",
   "id": "559311a5",
   "metadata": {},
   "source": [
    "### 4.3.1 Instructions 1/2\n",
    "\n",
    "- Import `process` from `thefuzz`.\n",
    "- Store the unique `cuisine_type`s into `unique_types`.\n",
    "- Calculate the similarity of `'asian'`, `'american'`, and `'italian'` to all possible `cuisine_type`s using `process.extract()`, while returning all possible matches."
   ]
  },
  {
   "cell_type": "markdown",
   "id": "ea6814bb",
   "metadata": {},
   "source": [
    "```python\n",
    "# Import process from thefuzz\n",
    "from thefuzz import process\n",
    "\n",
    "# Store the unique values of cuisine_type in unique_types\n",
    "unique_types = restaurants['cuisine_type'].unique()\n",
    "\n",
    "# Calculate similarity of 'asian' to all values of unique_types\n",
    "print(process.extract('asian', unique_types, limit = len(unique_types)))\n",
    "\n",
    "# Calculate similarity of 'american' to all values of unique_types\n",
    "print(process.extract('american', unique_types, limit = len(unique_types)))\n",
    "\n",
    "# Calculate similarity of 'italian' to all values of unique_types\n",
    "print(process.extract('italian', unique_types, limit = len(unique_types)))\n",
    "```"
   ]
  },
  {
   "cell_type": "markdown",
   "id": "63e5286f",
   "metadata": {},
   "source": [
    "```\n",
    "[('asian', 100), ('asiane', 91), ('asiann', 91), ('asiian', 91), ('asiaan', 91), ('asianne', 83), ('asiat', 80), ('italiann', 72), ('italiano', 72), ('italianne', 72), ('italian', 67), ('amurican', 62), ('american', 62), ('italiaan', 62), ('italiian', 62), ('itallian', 62), ('americann', 57), ('americano', 57), ('ameerican', 57), ('aamerican', 57), ('ameriican', 57), ('amerrican', 57), ('ammericann', 54), ('ameerrican', 54), ('ammereican', 54), ('america', 50), ('merican', 50), ('murican', 50), ('italien', 50), ('americen', 46), ('americin', 46), ('amerycan', 46), ('itali', 40)]\n",
    "[('american', 100), ('americann', 94), ('americano', 94), ('ameerican', 94), ('aamerican', 94), ('ameriican', 94), ('amerrican', 94), ('america', 93), ('merican', 93), ('ammericann', 89), ('ameerrican', 89), ('ammereican', 89), ('amurican', 88), ('americen', 88), ('americin', 88), ('amerycan', 88), ('murican', 80), ('asian', 62), ('asiane', 57), ('asiann', 57), ('asiian', 57), ('asiaan', 57), ('italian', 53), ('asianne', 53), ('italiann', 50), ('italiano', 50), ('italiaan', 50), ('italiian', 50), ('itallian', 50), ('italianne', 47), ('asiat', 46), ('itali', 40), ('italien', 40)]\n",
    "[('italian', 100), ('italiann', 93), ('italiano', 93), ('italiaan', 93), ('italiian', 93), ('itallian', 93), ('italianne', 88), ('italien', 86), ('itali', 83), ('asian', 67), ('asiane', 62), ('asiann', 62), ('asiian', 62), ('asiaan', 62), ('asianne', 57), ('amurican', 53), ('american', 53), ('americann', 50), ('asiat', 50), ('americano', 50), ('ameerican', 50), ('aamerican', 50), ('ameriican', 50), ('amerrican', 50), ('ammericann', 47), ('ameerrican', 47), ('ammereican', 47), ('america', 43), ('merican', 43), ('murican', 43), ('americen', 40), ('americin', 40), ('amerycan', 40)]\n",
    "```"
   ]
  },
  {
   "cell_type": "markdown",
   "id": "112e8709",
   "metadata": {},
   "source": [
    "### 4.3.2 Instructions 2/2\n",
    "\n",
    "### Question\n",
    "\n",
    "Take a look at the output, what do you think should be the similarity cutoff point when remapping categories?\n",
    "\n",
    "### Possible answers\n",
    "\n",
    "- [x] 80\n",
    "\n",
    "- [ ] 70\n",
    "\n",
    "- [ ] 60"
   ]
  },
  {
   "cell_type": "markdown",
   "id": "703746eb",
   "metadata": {},
   "source": [
    "## 4.4 Remapping categories II\n",
    "\n",
    "In the last exercise, you determined that the distance cutoff point for remapping typos of `'american'`, `'asian'`, and `'italian'` cuisine types stored in the `cuisine_type` column should be 80.\n",
    "\n",
    "In this exercise, you're going to put it all together by finding matches with similarity scores equal to or higher than 80 by using `fuzywuzzy.process`'s `extract()` function, for each correct cuisine type, and replacing these matches with it. Remember, when comparing a string with an array of strings using `process.extract()`, the output is a list of tuples where each is formatted like:\n",
    "\n",
    "```python\n",
    "(closest match, similarity score, index of match)\n",
    "```\n",
    "\n",
    "The `restaurants` DataFrame is in your environment, and you have access to a `categories` list containing the correct cuisine types (`'italian'`, `'asian'`, and `'american'`)."
   ]
  },
  {
   "cell_type": "markdown",
   "id": "13975105",
   "metadata": {},
   "source": [
    "### 4.4.1 Instructions 1/4\n",
    "\n",
    "- Return all of the unique values in the `cuisine_type` column of `restaurants`."
   ]
  },
  {
   "cell_type": "markdown",
   "id": "add8c0bf",
   "metadata": {},
   "source": [
    "```python\n",
    "# Inspect the unique values of the cuisine_type column\n",
    "print(restaurants['cuisine_type'].unique())\n",
    "```"
   ]
  },
  {
   "cell_type": "markdown",
   "id": "c619d4aa",
   "metadata": {},
   "source": [
    "```\n",
    "['america' 'merican' 'amurican' 'americen' 'americann' 'asiane' 'itali'\n",
    " 'asiann' 'murican' 'italien' 'italian' 'asiat' 'american' 'americano'\n",
    " 'italiann' 'ameerican' 'asianne' 'italiano' 'americin' 'ammericann'\n",
    " 'amerycan' 'aamerican' 'ameriican' 'italiaan' 'asiian' 'asiaan'\n",
    " 'amerrican' 'ameerrican' 'ammereican' 'asian' 'italianne' 'italiian'\n",
    " 'itallian']\n",
    "```"
   ]
  },
  {
   "cell_type": "markdown",
   "id": "77bbbb69",
   "metadata": {},
   "source": [
    "### 4.4.2 Instructions 2/4\n",
    "\n",
    "Okay! Looks like you will need to use some string matching to correct these misspellings!\n",
    "\n",
    "- As a first step, create a list of all possible `matches`, comparing `'italian'` with the restaurant types listed in the `cuisine_type` column."
   ]
  },
  {
   "cell_type": "markdown",
   "id": "14193adf",
   "metadata": {},
   "source": [
    "```python\n",
    "# Create a list of matches, comparing 'italian' with the cuisine_type column\n",
    "matches = matches = process.extract('italian', restaurants['cuisine_type'], limit = len(restaurants))\n",
    "\n",
    "# Inspect the first 5 matches\n",
    "print(matches[0:5])\n",
    "```"
   ]
  },
  {
   "cell_type": "markdown",
   "id": "d1673bd7",
   "metadata": {},
   "source": [
    "```\n",
    "[('italian', 100, 11), ('italian', 100, 25), ('italian', 100, 41), ('italian', 100, 47), ('italian', 100, 49)]\n",
    "```"
   ]
  },
  {
   "cell_type": "markdown",
   "id": "f22b06d7",
   "metadata": {},
   "source": [
    "### 4.4.3 Instructions 3/4\n",
    "\n",
    "Now you're getting somewhere! Now you can iterate through `matches` to reassign similar entries.\n",
    "\n",
    "- Within the `for` loop, use an `if` statement to check whether the similarity score in each `match` is greater than or equal to 80.\n",
    "- If it is, use `.loc` to select rows where `cuisine_type` in `restaurants` is *equal* to the current match (which is the first element of `match`), and reassign them to be `'italian'`.\n"
   ]
  },
  {
   "cell_type": "markdown",
   "id": "a10f4a4e",
   "metadata": {},
   "source": [
    "```python\n",
    "# Create a list of matches, comparing 'italian' with the cuisine_type column\n",
    "matches = process.extract('italian', restaurants['cuisine_type'], limit=len(restaurants.cuisine_type))\n",
    "\n",
    "# Iterate through the list of matches to italian\n",
    "for match in matches:\n",
    "  # Check whether the similarity score is greater than or equal to 80\n",
    "  if match[1] >= 80:\n",
    "    # Select all rows where the cuisine_type is spelled this way, and set them to the correct cuisine\n",
    "    restaurants.loc[restaurants['cuisine_type'] == match[0], 'cuisine_type'] = 'italian'\n",
    "```"
   ]
  },
  {
   "cell_type": "markdown",
   "id": "ba473435",
   "metadata": {},
   "source": [
    "### 4.4.4 Instructions 4/4\n",
    "\n",
    "Finally, you'll adapt your code to work with every restaurant type in `categories`.\n",
    "\n",
    "- Using the variable `cuisine` to iterate through `categories`, embed your code from the previous step in an outer `for` loop.\n",
    "- Inspect the final result. *This has been done for you.*"
   ]
  },
  {
   "cell_type": "markdown",
   "id": "e51b110d",
   "metadata": {},
   "source": [
    "```python\n",
    "# Iterate through categories\n",
    "for cuisine in categories:  \n",
    "  # Create a list of matches, comparing cuisine with the cuisine_type column\n",
    "  matches = process.extract(cuisine, restaurants['cuisine_type'], limit=len(restaurants.cuisine_type))\n",
    "\n",
    "  # Iterate through the list of matches\n",
    "  for match in matches:\n",
    "     # Check whether the similarity score is greater than or equal to 80\n",
    "    if match[1] >= 80:\n",
    "      # If it is, select all rows where the cuisine_type is spelled this way, and set them to the correct cuisine\n",
    "      restaurants.loc[restaurants['cuisine_type'] == match[0]] = cuisine\n",
    "\n",
    "# Inspect the final result\n",
    "print(restaurants['cuisine_type'].unique())\n",
    "```"
   ]
  },
  {
   "cell_type": "markdown",
   "id": "406d1c2d",
   "metadata": {},
   "source": [
    "```\n",
    "['american' 'asian' 'italian']\n",
    "```"
   ]
  },
  {
   "cell_type": "markdown",
   "id": "9040613e",
   "metadata": {},
   "source": [
    "## 4.5 Generating pairs"
   ]
  },
  {
   "cell_type": "markdown",
   "id": "4d3b1a10",
   "metadata": {},
   "source": [
    "## 4.6 To link or not to link?\n",
    "\n",
    "Similar to joins, record linkage is the act of linking data from different sources regarding the same entity. But unlike joins, record linkage does not require exact matches between different pairs of data, and instead can find close matches using string similarity. This is why record linkage is effective when there are no common unique keys between the data sources you can rely upon when linking data sources such as a unique identifier.\n",
    "\n",
    "In this exercise, you will classify each card whether it is a traditional join problem, or a record linkage one."
   ]
  },
  {
   "cell_type": "markdown",
   "id": "83f8fee5",
   "metadata": {},
   "source": [
    "### 4.6.1 Instructions\n",
    "\n",
    "- Classify each card into a problem that requires record linkage or regular joins.\n",
    "\n",
    "| Record linkage                                                                                                                              | Regular joins                                                                                                                    |\n",
    "|:-------------------------------------------------------------------------------------------------------------------------------------------:|:--------------------------------------------------------------------------------------------------------------------------------:|\n",
    "| Merging two basketball DataFrames, with columns `team_A`, `team_B`, and `time` and differently formatted team names between each DataFrame. | Two basketball DataFrames with a common unique identifier per game.                                                              |\n",
    "| Using an `address` column to join two DataFrames, with the address in each DataFrame being formatted slightly differntly.                   | Consolidating two DataFrames containing details on DataCamp courses, with each DataCamp course having its own unique identifier. |\n",
    "| Two customer Dataframes containing names and address, one with a unique identifier per customer, one without.                               |                                                                                                                                  |"
   ]
  },
  {
   "cell_type": "markdown",
   "id": "cff31d6a",
   "metadata": {},
   "source": [
    "## 4.7 Pairs of restaurants\n",
    "\n",
    "In the last lesson, you cleaned the `restaurants` dataset to make it ready for building a restaurants recommendation engine. You have a new DataFrame named `restaurants_new` with new restaurants to train your model on, that's been scraped from a new data source.\n",
    "\n",
    "You've already cleaned the `cuisine_type` and `city` columns using the techniques learned throughout the course. However you saw duplicates with typos in restaurants names that require record linkage instead of joins with `restaurants`.\n",
    "\n",
    "In this exercise, you will perform the first step in record linkage and generate possible pairs of rows between `restaurants` and `restaurants_new`. Both DataFrames, `pandas` and `recordlinkage` are in your environment."
   ]
  },
  {
   "cell_type": "markdown",
   "id": "3ffa2cfa",
   "metadata": {},
   "source": [
    "### 4.7.1 Instructions 1/2\n",
    "\n",
    "- Instantiate an indexing object by using the `Index()` function from `recordlinkage`.\n",
    "- Block your pairing on `cuisine_type` by using `indexer`'s' `.block()` method.\n",
    "- Generate pairs by indexing `restaurants` and `restaurants_new` in that order."
   ]
  },
  {
   "cell_type": "markdown",
   "id": "d3da30e8",
   "metadata": {},
   "source": [
    "```python\n",
    "# Create an indexer and object and find possible pairs\n",
    "indexer = recordlinkage.Index()\n",
    "\n",
    "# Block pairing on cuisine_type\n",
    "indexer.block('cuisine_type')\n",
    "\n",
    "# Generate pairs\n",
    "pairs = indexer.index(restaurants, restaurants_new)\n",
    "```"
   ]
  },
  {
   "cell_type": "markdown",
   "id": "3aa1b8bd",
   "metadata": {},
   "source": [
    "### 4.7.2 Instructions 2/2\n",
    "\n",
    "### Question\n",
    "\n",
    "Now that you've generated your pairs, you've achieved the first step of record linkage. What are the steps remaining to link both restaurants DataFrames, and in what order?\n",
    "\n",
    "### Possible answers\n",
    "\n",
    "- [x] Compare between columns, score the comparism, then link the DataFrames.\n",
    "\n",
    "- [ ] Clean the data, Compare between columns, link the DataFrames, then score the comparism\n",
    "\n",
    "- [ ] Clean the data, Compare between columns, score the comparism, then link the DataFrames."
   ]
  },
  {
   "cell_type": "markdown",
   "id": "83ef1afd",
   "metadata": {},
   "source": [
    "## 4.8 Similar restaurants\n",
    "\n",
    "In the last exercise, you generated pairs between `restaurants` and `restaurants_new` in an effort to cleanly merge both DataFrames using record linkage.\n",
    "\n",
    "When performing record linkage, there are different types of matching you can perform between different columns of your DataFrames, including exact matches, string similarities, and more.\n",
    "\n",
    "Now that your pairs have been generated and stored in `pairs`, you will find exact matches in the `city` and `cuisine_type` columns between each pair, and similar strings for each pair in the `rest_name` column. Both DataFrames, `pandas` and `recordlinkage` are in your environment."
   ]
  },
  {
   "cell_type": "markdown",
   "id": "4eedbc75",
   "metadata": {},
   "source": [
    "### 4.8.1 Instructions 1/4\n",
    "\n",
    "- Instantiate a comparison object using the `recordlinkage.Compare()` function."
   ]
  },
  {
   "cell_type": "markdown",
   "id": "35ca8e70",
   "metadata": {},
   "source": [
    "```python\n",
    "# Create a comparison object\n",
    "comp_cl = recordlinkage.Compare()\n",
    "```"
   ]
  },
  {
   "cell_type": "markdown",
   "id": "de026427",
   "metadata": {},
   "source": [
    "### 4.8.2 Instructions 2/4\n",
    "\n",
    "- Use the appropriate `comp_cl` method to find exact matches between the `city` and `cuisine_type` columns of both DataFrames.\n",
    "- Use the appropriate `comp_cl` method to find similar strings with a `0.8` similarity threshold in the `rest_name` column of both DataFrames."
   ]
  },
  {
   "cell_type": "markdown",
   "id": "1b47d9ad",
   "metadata": {},
   "source": [
    "```python\n",
    "# Create a comparison object\n",
    "comp_cl = recordlinkage.Compare()\n",
    "\n",
    "# Find exact matches on city, cuisine_types \n",
    "comp_cl.exact('city', 'city', label='city')\n",
    "comp_cl.exact('cuisine_type', 'cuisine_type', label = 'cuisine_type')\n",
    "\n",
    "# Find similar matches of rest_name\n",
    "comp_cl.string('rest_name', 'rest_name', label='name', threshold=0.8) \n",
    "```"
   ]
  },
  {
   "cell_type": "markdown",
   "id": "d8fa21d0",
   "metadata": {},
   "source": [
    "```\n",
    "<Compare>\n",
    "```"
   ]
  },
  {
   "cell_type": "markdown",
   "id": "a2d4e8d1",
   "metadata": {},
   "source": [
    "### 4.8.3 Instructions 3/4\n",
    "\n",
    "- Compute the comparison of the pairs by using the `.compute()` method of `comp_cl`."
   ]
  },
  {
   "cell_type": "markdown",
   "id": "cd597c7b",
   "metadata": {},
   "source": [
    "```python\n",
    "# Create a comparison object\n",
    "comp_cl = recordlinkage.Compare()\n",
    "\n",
    "# Find exact matches on city, cuisine_types - \n",
    "comp_cl.exact('city', 'city', label='city')\n",
    "comp_cl.exact('cuisine_type', 'cuisine_type', label='cuisine_type')\n",
    "\n",
    "# Find similar matches of rest_name\n",
    "comp_cl.string('rest_name', 'rest_name', label='name', threshold = 0.8) \n",
    "\n",
    "# Get potential matches and print\n",
    "potential_matches = comp_cl.compute(pairs, restaurants, restaurants_new)\n",
    "print(potential_matches)\n",
    "```"
   ]
  },
  {
   "cell_type": "markdown",
   "id": "a7f18d2c",
   "metadata": {},
   "source": [
    "```\n",
    "        city  cuisine_type  name\n",
    "0   0      0             1   0.0\n",
    "    1      0             1   0.0\n",
    "    7      0             1   0.0\n",
    "    12     0             1   0.0\n",
    "    13     0             1   0.0\n",
    "...      ...           ...   ...\n",
    "40  18     0             1   0.0\n",
    "281 18     0             1   0.0\n",
    "288 18     0             1   0.0\n",
    "302 18     0             1   0.0\n",
    "308 18     0             1   0.0\n",
    "\n",
    "[3631 rows x 3 columns]\n",
    "```"
   ]
  },
  {
   "cell_type": "markdown",
   "id": "ac32656a",
   "metadata": {},
   "source": [
    "## 4.8.4 Instructions 4/4\n",
    "\n",
    "### Question\n",
    "\n",
    "Print out `potential_matches`, the columns are the columns being compared, with values being 1 for a match, and 0 for not a match for each pair of rows in your DataFrames. To find potential matches, you need to find rows with more than matching value in a column. You can find them with\n",
    "\n",
    "```python\n",
    "potential_matches[potential_matches.sum(axis = 1) >= n]\n",
    "```\n",
    "\n",
    "Where `n` is the minimum number of columns you want matching to ensure a proper duplicate find, what do you think should the value of `n` be?\n",
    "\n",
    "- [x] 3 because I need to have matches in all my columns\n",
    "\n",
    "- [ ] 2 because matching on any of the 2 columns or more is enough to find potential duplicates.\n",
    "\n",
    "- [ ] 1 because matching on just 1 column like the restaurant name is enough to find potential duplicates."
   ]
  },
  {
   "cell_type": "markdown",
   "id": "7c47f256",
   "metadata": {},
   "source": [
    "## 4.9 Linking DataFrames"
   ]
  },
  {
   "cell_type": "markdown",
   "id": "b44ad249",
   "metadata": {},
   "source": [
    "## 4.10 Getting the right index\n",
    "\n",
    "Here's a DataFrame named `matches` containing potential matches between two DataFrames, `users_1` and `users_2`. Each DataFrame's row indices is stored in `uid_1` and `uid_2` respectively.\n",
    "\n",
    "```\n",
    "             first_name  address_1  address_2  marriage_status  date_of_birth\n",
    "uid_1 uid_2                                                                  \n",
    "0     3              1          1          1                1              0\n",
    "     ...            ...         ...        ...              ...            ...\n",
    "     ...            ...         ...        ...              ...            ...\n",
    "1     3              1          1          1                1              0\n",
    "     ...            ...         ...        ...              ...            ...\n",
    "     ...            ...         ...        ...              ...            ...\n",
    "```\n",
    "\n",
    "How do you extract all values of the `uid_1` index column?"
   ]
  },
  {
   "cell_type": "markdown",
   "id": "0d9f0ede",
   "metadata": {},
   "source": [
    "### 4.10.1 Answer the question\n",
    "\n",
    "### Possible Answers\n",
    "\n",
    "- [ ] `matches.index.get_level_values(0)`\n",
    "\n",
    "- [ ] `matches.index.get_level_values(1)`\n",
    "\n",
    "- [ ] `matches.index.get_level_values('uid_1')`\n",
    "\n",
    "- [x] Both 1 and 3 are correct."
   ]
  },
  {
   "cell_type": "markdown",
   "id": "a7fa94c0",
   "metadata": {},
   "source": [
    "## 4.11 Linking them together!\n",
    "\n",
    "In the last lesson, you've finished the bulk of the work on your effort to link `restaurants` and `restaurants_new`. You've generated the different pairs of potentially matching rows, searched for exact matches between the `cuisine_type` and `city` columns, but compared for similar strings in the `rest_name` column. You stored the DataFrame containing the scores in `potential_matches`.\n",
    "\n",
    "Now it's finally time to link both DataFrames. You will do so by first extracting all row indices of `restaurants_new` that are matching across the columns mentioned above from `potential_matches`. Then you will subset `restaurants_new` on these indices, then append the non-duplicate values to `restaurants`. All DataFrames are in your environment, alongside `pandas` imported as `pd`."
   ]
  },
  {
   "cell_type": "markdown",
   "id": "b1cd51c1",
   "metadata": {},
   "source": [
    "### 4.11.1 Instructions\n",
    "\n",
    "- Isolate instances of `potential_matches` where the row sum is above or equal to 3 by using the `.sum()` method.\n",
    "- Extract the second column index from `matches`, which represents row indices of matching record from `restaurants_new` by using the `.get_level_values()` method.\n",
    "- Subset `restaurants_new` for rows that are not in `matching_indices`.\n",
    "- Append `non_dup` to `restaurants`."
   ]
  },
  {
   "cell_type": "markdown",
   "id": "b1e8676f",
   "metadata": {},
   "source": [
    "```python\n",
    "# Isolate potential matches with row sum >=3\n",
    "matches = potential_matches[potential_matches.sum(axis = 1) >= 3]\n",
    "\n",
    "# Get values of second column index of matches\n",
    "matching_indices = matches.index.get_level_values(1)\n",
    "\n",
    "# Subset restaurants_new based on non-duplicate values\n",
    "non_dup = restaurants_new[~restaurants_new.index.isin(matching_indices)]\n",
    "\n",
    "# Append non_dup to restaurants\n",
    "full_restaurants = restaurants.append(non_dup)\n",
    "print(full_restaurants)\n",
    "```"
   ]
  },
  {
   "cell_type": "markdown",
   "id": "1c7366a6",
   "metadata": {},
   "source": [
    "```\n",
    "\n",
    "                    rest_name                  rest_addr               city       phone cuisine_type\n",
    "0   arnie morton's of chicago   435 s. la cienega blv .         los angeles  3102461501     american\n",
    "1          art's delicatessen       12224 ventura blvd.         studio city  8187621221     american\n",
    "2                   campanile       624 s. la brea ave.         los angeles  2139381447     american\n",
    "3                       fenix    8358 sunset blvd. west           hollywood  2138486677     american\n",
    "4          grill on the alley           9560 dayton way         los angeles  3102760615     american\n",
    "..                        ...                        ...                ...         ...          ...\n",
    "76                        don        1136 westwood blvd.           westwood  3102091422      italian\n",
    "77                      feast        1949 westwood blvd.            west la  3104750400      chinese\n",
    "78                   mulberry        17040 ventura blvd.             encino  8189068881        pizza\n",
    "80                    jiraffe      502 santa monica blvd       santa monica  3109176671  californian\n",
    "81                   martha's  22nd street grill 25 22nd  st. hermosa beach  3103767786     american\n",
    "\n",
    "[396 rows x 5 columns]\n",
    "```"
   ]
  },
  {
   "cell_type": "markdown",
   "id": "0eacfb8a",
   "metadata": {},
   "source": [
    "## 4.12 Congratulations!"
   ]
  }
 ],
 "metadata": {
  "kernelspec": {
   "display_name": "Python 3 (ipykernel)",
   "language": "python",
   "name": "python3"
  },
  "language_info": {
   "codemirror_mode": {
    "name": "ipython",
    "version": 3
   },
   "file_extension": ".py",
   "mimetype": "text/x-python",
   "name": "python",
   "nbconvert_exporter": "python",
   "pygments_lexer": "ipython3",
   "version": "3.10.11"
  }
 },
 "nbformat": 4,
 "nbformat_minor": 5
}
